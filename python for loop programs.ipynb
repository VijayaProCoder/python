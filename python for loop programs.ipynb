{
 "cells": [
  {
   "cell_type": "code",
   "execution_count": 2,
   "id": "6ad4a1dd",
   "metadata": {},
   "outputs": [
    {
     "name": "stdout",
     "output_type": "stream",
     "text": [
      "0\n",
      "1\n",
      "2\n",
      "3\n",
      "4\n",
      "5\n",
      "6\n",
      "7\n",
      "8\n",
      "9\n"
     ]
    }
   ],
   "source": [
    "for i in range(10):\n",
    "    print(i)"
   ]
  },
  {
   "cell_type": "code",
   "execution_count": 3,
   "id": "eb4b301b",
   "metadata": {},
   "outputs": [
    {
     "name": "stdout",
     "output_type": "stream",
     "text": [
      "hello\n",
      "hello\n",
      "hello\n",
      "hello\n",
      "hello\n",
      "hello\n"
     ]
    }
   ],
   "source": [
    "str=\"python\"\n",
    "for i in str[::-1]:\n",
    "    print(\"hello\")"
   ]
  },
  {
   "cell_type": "code",
   "execution_count": 8,
   "id": "6f7d30bb",
   "metadata": {},
   "outputs": [
    {
     "name": "stdout",
     "output_type": "stream",
     "text": [
      "hello\n",
      "hello\n",
      "hello\n",
      "hello\n",
      "hello\n",
      "hello\n"
     ]
    }
   ],
   "source": [
    "str=\"python\"\n",
    "for i in  \"nohtyp\":\n",
    "    print(\"hello\")"
   ]
  },
  {
   "cell_type": "code",
   "execution_count": 9,
   "id": "571bb56b",
   "metadata": {},
   "outputs": [
    {
     "name": "stdout",
     "output_type": "stream",
     "text": [
      "20\n",
      "20\n",
      "20\n",
      "20\n",
      "20\n",
      "20\n"
     ]
    }
   ],
   "source": [
    "x=10\n",
    "for i in range(5):\n",
    "    x=20\n",
    "    print(x)\n",
    "print(x)    \n",
    "    "
   ]
  },
  {
   "cell_type": "code",
   "execution_count": 10,
   "id": "2717467f",
   "metadata": {},
   "outputs": [
    {
     "name": "stdout",
     "output_type": "stream",
     "text": [
      "0 10\n",
      "1 10\n",
      "2 10\n",
      "3 10\n",
      "4 10\n",
      "5 10\n",
      "6 10\n",
      "7 10\n",
      "8 10\n",
      "9 10\n"
     ]
    }
   ],
   "source": [
    "x=10\n",
    "for i in range(10):\n",
    "    print(i,x)"
   ]
  },
  {
   "cell_type": "code",
   "execution_count": 12,
   "id": "b53136e7",
   "metadata": {},
   "outputs": [
    {
     "name": "stdout",
     "output_type": "stream",
     "text": [
      "0 , 10\n",
      "1 , 10\n",
      "2 , 10\n",
      "3 , 10\n",
      "4 , 10\n",
      "5 , 10\n",
      "6 , 10\n",
      "7 , 10\n",
      "8 , 10\n",
      "9 , 10\n"
     ]
    }
   ],
   "source": [
    "x=10\n",
    "for i in range(10):\n",
    "    print(i,\",\",x)"
   ]
  },
  {
   "cell_type": "code",
   "execution_count": 14,
   "id": "bf84a735",
   "metadata": {},
   "outputs": [
    {
     "name": "stdout",
     "output_type": "stream",
     "text": [
      "0 ) 10\n",
      "1 ) 10\n",
      "2 ) 10\n",
      "3 ) 10\n",
      "4 ) 10\n",
      "5 ) 10\n",
      "6 ) 10\n",
      "7 ) 10\n",
      "8 ) 10\n",
      "9 ) 10\n"
     ]
    }
   ],
   "source": [
    "x=10\n",
    "for i in range(10):\n",
    "    print(i,\")\",x)"
   ]
  },
  {
   "cell_type": "code",
   "execution_count": 15,
   "id": "ec34b70e",
   "metadata": {},
   "outputs": [
    {
     "name": "stdout",
     "output_type": "stream",
     "text": [
      "1\n",
      "3\n",
      "5\n",
      "7\n",
      "9\n"
     ]
    }
   ],
   "source": [
    "for i in range(1,10,2):\n",
    "    print(i)"
   ]
  },
  {
   "cell_type": "code",
   "execution_count": 17,
   "id": "5c8e601d",
   "metadata": {},
   "outputs": [
    {
     "name": "stdout",
     "output_type": "stream",
     "text": [
      "1\n",
      "4\n",
      "7\n"
     ]
    }
   ],
   "source": [
    "for i in range(1,10,3):\n",
    "    print(i)\n"
   ]
  },
  {
   "cell_type": "code",
   "execution_count": 19,
   "id": "1fe1537f",
   "metadata": {},
   "outputs": [
    {
     "name": "stdout",
     "output_type": "stream",
     "text": [
      "2\n",
      "4\n",
      "6\n",
      "8\n",
      "10\n"
     ]
    }
   ],
   "source": [
    "for i in range(1,11):\n",
    "    if(i%2==0):\n",
    "        print(i)"
   ]
  },
  {
   "cell_type": "code",
   "execution_count": 21,
   "id": "ee72bbc2",
   "metadata": {},
   "outputs": [
    {
     "name": "stdout",
     "output_type": "stream",
     "text": [
      "1\n",
      "3\n",
      "5\n",
      "7\n",
      "9\n"
     ]
    }
   ],
   "source": [
    "for i in range(1,11):\n",
    "    if(i%2!=0):\n",
    "        print(i)"
   ]
  },
  {
   "cell_type": "code",
   "execution_count": 22,
   "id": "52394e37",
   "metadata": {},
   "outputs": [
    {
     "name": "stdout",
     "output_type": "stream",
     "text": [
      "[2, 4, 6, 8, 10]\n",
      "[1, 3, 5, 7, 9]\n"
     ]
    }
   ],
   "source": [
    "even=[]\n",
    "odd=[]\n",
    "for i in range(1,11):\n",
    "    if(i%2==0):\n",
    "        even.append(i)\n",
    "    else:\n",
    "        odd.append(i)\n",
    "print(even)\n",
    "print(odd)"
   ]
  },
  {
   "cell_type": "code",
   "execution_count": 23,
   "id": "bb2525d3",
   "metadata": {},
   "outputs": [
    {
     "name": "stdout",
     "output_type": "stream",
     "text": [
      "[2, 4, 6, 8, 10]\n",
      "[1, 3, 5, 7, 9]\n"
     ]
    }
   ],
   "source": [
    "def number():\n",
    "    \n",
    "    even=[]\n",
    "    odd=[]\n",
    "    for i in range(1,11):\n",
    "        if(i%2==0):\n",
    "            even.append(i)\n",
    "        else:\n",
    "            odd.append(i)\n",
    "    print(even)\n",
    "    print(odd)\n",
    "number()    \n"
   ]
  },
  {
   "cell_type": "code",
   "execution_count": 24,
   "id": "ff0a3b36",
   "metadata": {},
   "outputs": [],
   "source": [
    "#list comprehension\n"
   ]
  },
  {
   "cell_type": "code",
   "execution_count": 25,
   "id": "12b0eca5",
   "metadata": {},
   "outputs": [
    {
     "name": "stdout",
     "output_type": "stream",
     "text": [
      "[0, 2, 4, 6, 8]\n"
     ]
    }
   ],
   "source": [
    "print([i for i in range(10) if(i%2==0)])"
   ]
  },
  {
   "cell_type": "code",
   "execution_count": 26,
   "id": "20f56a61",
   "metadata": {},
   "outputs": [
    {
     "name": "stdout",
     "output_type": "stream",
     "text": [
      "[0, 5]\n"
     ]
    }
   ],
   "source": [
    "print([i for i in range(10) if(i%5==0)])"
   ]
  },
  {
   "cell_type": "code",
   "execution_count": 27,
   "id": "919968e1",
   "metadata": {},
   "outputs": [
    {
     "name": "stdout",
     "output_type": "stream",
     "text": [
      "5\n"
     ]
    }
   ],
   "source": [
    "print(len([i for i in range(10) if(i%2==0)]))"
   ]
  },
  {
   "cell_type": "code",
   "execution_count": 29,
   "id": "403c10cc",
   "metadata": {},
   "outputs": [
    {
     "name": "stdout",
     "output_type": "stream",
     "text": [
      "[0, 1, 4, 9, 16, 25, 36, 49, 64, 81]\n"
     ]
    }
   ],
   "source": [
    "print([i**2 for i in range(10) ])"
   ]
  },
  {
   "cell_type": "code",
   "execution_count": 30,
   "id": "a7a56f62",
   "metadata": {},
   "outputs": [
    {
     "name": "stdout",
     "output_type": "stream",
     "text": [
      "[0, 2, 4, 6, 8]\n"
     ]
    }
   ],
   "source": [
    "print([i for i in range(10) if(i%2==0)])"
   ]
  },
  {
   "cell_type": "code",
   "execution_count": 33,
   "id": "d000d670",
   "metadata": {},
   "outputs": [
    {
     "name": "stdout",
     "output_type": "stream",
     "text": [
      "[1, 9, 25, 49, 81]\n"
     ]
    }
   ],
   "source": [
    "print([i**2 for i in range(10) if(i%2!=0)])"
   ]
  },
  {
   "cell_type": "code",
   "execution_count": 34,
   "id": "aec6d5e4",
   "metadata": {},
   "outputs": [
    {
     "name": "stdout",
     "output_type": "stream",
     "text": [
      "[1, 1, 2, 2, 3, 3, 4, 5, 6, 7, 8, 8, 9]\n"
     ]
    }
   ],
   "source": [
    "print([i for i in [1,1,2,2,3,3,4,5,6,7,8,8,9]])"
   ]
  },
  {
   "cell_type": "code",
   "execution_count": 35,
   "id": "0a7fa31c",
   "metadata": {},
   "outputs": [
    {
     "name": "stdout",
     "output_type": "stream",
     "text": [
      "13\n"
     ]
    }
   ],
   "source": [
    "print(len([i for i in [1,1,2,2,3,3,4,5,6,7,8,8,9]]))"
   ]
  },
  {
   "cell_type": "code",
   "execution_count": 38,
   "id": "4371c999",
   "metadata": {},
   "outputs": [
    {
     "name": "stdout",
     "output_type": "stream",
     "text": [
      "{1, 2, 3, 4, 5, 6, 7, 8, 9}\n"
     ]
    }
   ],
   "source": [
    "print({i for i in [1,1,2,2,3,3,4,5,6,7,8,8,9]})"
   ]
  },
  {
   "cell_type": "code",
   "execution_count": 39,
   "id": "0582ef71",
   "metadata": {},
   "outputs": [
    {
     "name": "stdout",
     "output_type": "stream",
     "text": [
      "{64, 1, 4, 36, 9, 16, 49, 81, 25}\n"
     ]
    }
   ],
   "source": [
    "print({i**2 for i in [1,1,2,2,3,3,4,5,6,7,8,8,9]})"
   ]
  },
  {
   "cell_type": "code",
   "execution_count": 41,
   "id": "93ba0be9",
   "metadata": {},
   "outputs": [
    {
     "name": "stdout",
     "output_type": "stream",
     "text": [
      "9\n"
     ]
    }
   ],
   "source": [
    "print(len({i**2 for i in [1,1,2,2,3,3,4,5,6,7,8,8,9]}))"
   ]
  },
  {
   "cell_type": "code",
   "execution_count": 42,
   "id": "9749c373",
   "metadata": {},
   "outputs": [
    {
     "name": "stdout",
     "output_type": "stream",
     "text": [
      "9\n"
     ]
    }
   ],
   "source": [
    "print(len({i for i in [1,1,2,2,3,3,4,5,6,7,8,8,9]}))"
   ]
  },
  {
   "cell_type": "code",
   "execution_count": 43,
   "id": "da2a18da",
   "metadata": {},
   "outputs": [
    {
     "name": "stdout",
     "output_type": "stream",
     "text": [
      "{1, 2, 3, 45}\n"
     ]
    }
   ],
   "source": [
    "print({1,1,1,2,2,2,3,45,1,2})"
   ]
  },
  {
   "cell_type": "code",
   "execution_count": 44,
   "id": "8745255c",
   "metadata": {},
   "outputs": [
    {
     "name": "stdout",
     "output_type": "stream",
     "text": [
      "[5, 10, 15, 20, 25, 30, 35, 40, 45]\n"
     ]
    }
   ],
   "source": [
    "print([i for i in range(1,50) if(i%5==0)])"
   ]
  },
  {
   "cell_type": "code",
   "execution_count": 46,
   "id": "04b11f1b",
   "metadata": {},
   "outputs": [
    {
     "name": "stdout",
     "output_type": "stream",
     "text": [
      "[11, 12, 13, 3, 4, 5, 31, 32, 33]\n"
     ]
    }
   ],
   "source": [
    "l1=[10,2,30]\n",
    "l2=[1,2,3]\n",
    "l3=[]\n",
    "#[11,12,13,21,22,23,31,32,33]\n",
    "for i in l1:\n",
    "    for j in l2:\n",
    "        l3.append(i+j)\n",
    "print(l3)        "
   ]
  },
  {
   "cell_type": "code",
   "execution_count": 47,
   "id": "8c8b28b0",
   "metadata": {},
   "outputs": [
    {
     "name": "stdout",
     "output_type": "stream",
     "text": [
      "[11, 12, 13, 3, 4, 5, 31, 32, 33]\n"
     ]
    }
   ],
   "source": [
    "print([i+j for i in l1 for j in l2])"
   ]
  },
  {
   "cell_type": "code",
   "execution_count": 48,
   "id": "98f6963e",
   "metadata": {},
   "outputs": [
    {
     "name": "stdout",
     "output_type": "stream",
     "text": [
      "['Aa', 'Ab', 'Ac', 'Ba', 'Bb', 'Bc', 'Ca', 'Cb', 'Cc']\n"
     ]
    }
   ],
   "source": [
    "print([i+j for i in \"ABC\" for j in \"abc\"])"
   ]
  },
  {
   "cell_type": "code",
   "execution_count": 49,
   "id": "e1ed0e6b",
   "metadata": {},
   "outputs": [
    {
     "name": "stdout",
     "output_type": "stream",
     "text": [
      "[0, 1, 2, 3, 4, 5, 6, 7, 8, 9]\n"
     ]
    }
   ],
   "source": [
    "print([i for i in range(10)])"
   ]
  },
  {
   "cell_type": "code",
   "execution_count": 50,
   "id": "40df0762",
   "metadata": {},
   "outputs": [
    {
     "name": "stdout",
     "output_type": "stream",
     "text": [
      "['p', 'y', 't', 'h', 'o', 'n']\n"
     ]
    }
   ],
   "source": [
    "print([i for i in \"python\"])"
   ]
  },
  {
   "cell_type": "code",
   "execution_count": 51,
   "id": "686d35f7",
   "metadata": {},
   "outputs": [
    {
     "name": "stdout",
     "output_type": "stream",
     "text": [
      "['v', 'i', 'j', 'a', 'y', 'a', 'l', 'a', 'x', 'm', 'i']\n"
     ]
    }
   ],
   "source": [
    "print([i  for i in  \"vijayalaxmi\"])"
   ]
  },
  {
   "cell_type": "code",
   "execution_count": 52,
   "id": "3e516b03",
   "metadata": {},
   "outputs": [
    {
     "name": "stdout",
     "output_type": "stream",
     "text": [
      "['s', 'u', 'r', 'y', 'a', 't', 'e', 'j', 'a']\n"
     ]
    }
   ],
   "source": [
    "print([ i for i in \"suryateja\"])"
   ]
  },
  {
   "cell_type": "code",
   "execution_count": 53,
   "id": "0bead901",
   "metadata": {},
   "outputs": [
    {
     "name": "stdout",
     "output_type": "stream",
     "text": [
      "['s', 'u', 'r', 'i', 'v', 'i', 'j', 'j', 'u']\n"
     ]
    }
   ],
   "source": [
    "print([ i for i in \"surivijju\"])"
   ]
  },
  {
   "cell_type": "code",
   "execution_count": 55,
   "id": "294a54c0",
   "metadata": {},
   "outputs": [
    {
     "name": "stdout",
     "output_type": "stream",
     "text": [
      "['A', 'B', 'C']\n"
     ]
    }
   ],
   "source": [
    "print([i[0] for i in [\"Aaa\",\"Bbb\",\"Ccc\"]])"
   ]
  },
  {
   "cell_type": "code",
   "execution_count": 57,
   "id": "16e6a2c9",
   "metadata": {},
   "outputs": [
    {
     "name": "stdout",
     "output_type": "stream",
     "text": [
      "['a', 'a', 'z']\n"
     ]
    }
   ],
   "source": [
    "print([i[2] for i  in [\"Aaaax\",\"Bbay\",\"Ccz\"]])"
   ]
  },
  {
   "cell_type": "code",
   "execution_count": 58,
   "id": "aeba7c80",
   "metadata": {},
   "outputs": [
    {
     "name": "stdout",
     "output_type": "stream",
     "text": [
      "['x', 'y', 'z']\n"
     ]
    }
   ],
   "source": [
    "print([i[-1] for i  in [\"Aaaax\",\"Bbay\",\"Ccz\"]])"
   ]
  },
  {
   "cell_type": "code",
   "execution_count": 60,
   "id": "793629d5",
   "metadata": {},
   "outputs": [
    {
     "name": "stdout",
     "output_type": "stream",
     "text": [
      "['D', 'S', 'W']\n"
     ]
    }
   ],
   "source": [
    "print([i[0] for i in [\"Data\",\"Science\",\"With\"]])"
   ]
  },
  {
   "cell_type": "code",
   "execution_count": null,
   "id": "eb2e80b7",
   "metadata": {},
   "outputs": [],
   "source": [
    "#nested for loop"
   ]
  },
  {
   "cell_type": "code",
   "execution_count": 67,
   "id": "9d81df80",
   "metadata": {},
   "outputs": [
    {
     "name": "stdout",
     "output_type": "stream",
     "text": [
      " \n",
      "*   \n",
      "*  *   \n",
      "*  *  *   \n",
      "*  *  *  *   \n"
     ]
    }
   ],
   "source": [
    "for i in range(5):\n",
    "    for j in range(i):\n",
    "        print(\"* \",end=\" \")\n",
    "    print(\" \")    "
   ]
  },
  {
   "cell_type": "code",
   "execution_count": 70,
   "id": "7acb96d8",
   "metadata": {},
   "outputs": [
    {
     "name": "stdout",
     "output_type": "stream",
     "text": [
      "\n",
      "*  \n",
      "*  *  \n",
      "*  *  *  \n",
      "*  *  *  *  \n"
     ]
    }
   ],
   "source": [
    "for i in range(5):\n",
    "    for j in range(i):\n",
    "        print(\"* \",end=\" \")\n",
    "    print()   "
   ]
  },
  {
   "cell_type": "code",
   "execution_count": 71,
   "id": "df6560c3",
   "metadata": {},
   "outputs": [
    {
     "name": "stdout",
     "output_type": "stream",
     "text": [
      "*  *  *  *  \n",
      "*  *  *  *  \n",
      "*  *  *  *  \n",
      "*  *  *  *  \n",
      "*  *  *  *  \n"
     ]
    }
   ],
   "source": [
    "for i in range(5):\n",
    "    for j in range(4):\n",
    "        print(\"* \",end=\" \")\n",
    "    print()   "
   ]
  },
  {
   "cell_type": "code",
   "execution_count": 72,
   "id": "b64b7e77",
   "metadata": {},
   "outputs": [
    {
     "name": "stdout",
     "output_type": "stream",
     "text": [
      "*  *  *  \n",
      "*  *  *  \n",
      "*  *  *  \n",
      "*  *  *  \n"
     ]
    }
   ],
   "source": [
    "for i in range(4):\n",
    "    for j in range(3):\n",
    "        print(\"* \",end=\" \")\n",
    "    print()   "
   ]
  },
  {
   "cell_type": "code",
   "execution_count": 73,
   "id": "7e848020",
   "metadata": {},
   "outputs": [
    {
     "name": "stdout",
     "output_type": "stream",
     "text": [
      "0\n",
      "0\n",
      "\n",
      "1\n",
      "1\n",
      "\n"
     ]
    }
   ],
   "source": [
    "for  i in range(2):#range(2)=(0,1)\n",
    "    for j in range(2):#range(3)=(0,1)\n",
    "        print(i)\n",
    "    print()    "
   ]
  },
  {
   "cell_type": "code",
   "execution_count": 77,
   "id": "7f71884f",
   "metadata": {},
   "outputs": [
    {
     "name": "stdout",
     "output_type": "stream",
     "text": [
      "0\n",
      "1\n",
      "2\n",
      "3\n",
      "4\n",
      "\n",
      "0\n",
      "1\n",
      "2\n",
      "3\n",
      "4\n",
      "\n",
      "0\n",
      "1\n",
      "2\n",
      "3\n",
      "4\n",
      "\n",
      "0\n",
      "1\n",
      "2\n",
      "3\n",
      "4\n",
      "\n",
      "0\n",
      "1\n",
      "2\n",
      "3\n",
      "4\n",
      "\n"
     ]
    }
   ],
   "source": [
    "for  i in range(5):\n",
    "    for j in range(5):\n",
    "        print(j)\n",
    "    print()    "
   ]
  },
  {
   "cell_type": "code",
   "execution_count": 80,
   "id": "b3750566",
   "metadata": {},
   "outputs": [
    {
     "name": "stdout",
     "output_type": "stream",
     "text": [
      "*  *  *  *  $\n",
      "*  *  *  *  $\n",
      "*  *  *  *  $\n",
      "*  *  *  *  $\n",
      "*  *  *  *  $\n"
     ]
    }
   ],
   "source": [
    "for i in range(5):\n",
    "    for j in range(4):\n",
    "        print(\"* \",end=\" \")\n",
    "    print(\"$\")   "
   ]
  },
  {
   "cell_type": "code",
   "execution_count": 81,
   "id": "d2cfb0e9",
   "metadata": {},
   "outputs": [
    {
     "name": "stdout",
     "output_type": "stream",
     "text": [
      "$\n",
      "*  $\n",
      "*  *  $\n",
      "*  *  *  $\n",
      "*  *  *  *  $\n"
     ]
    }
   ],
   "source": [
    "for i in range(5):\n",
    "    for j in range(i):\n",
    "        print(\"* \",end=\" \")\n",
    "    print(\"$\")   "
   ]
  },
  {
   "cell_type": "code",
   "execution_count": 88,
   "id": "e796104b",
   "metadata": {},
   "outputs": [
    {
     "name": "stdout",
     "output_type": "stream",
     "text": [
      "1 2\n",
      "2 3\n",
      "2 3\n",
      "3 4\n",
      "3 4\n",
      "3 4\n",
      "4 5\n",
      "4 5\n",
      "4 5\n",
      "4 5\n"
     ]
    }
   ],
   "source": [
    "for i in range(5):\n",
    "    for j in range(i):\n",
    "        print(i,i+1)\n",
    "    "
   ]
  },
  {
   "cell_type": "code",
   "execution_count": 90,
   "id": "024c5656",
   "metadata": {},
   "outputs": [
    {
     "name": "stdout",
     "output_type": "stream",
     "text": [
      "0 0 0 0 \n",
      "1 1 1 1 \n",
      "2 2 2 2 \n",
      "3 3 3 3 \n",
      "4 4 4 4 \n"
     ]
    }
   ],
   "source": [
    "for i  in range(5):\n",
    "    for j in range(4):\n",
    "        print(i, end=\" \")\n",
    "    print()"
   ]
  },
  {
   "cell_type": "code",
   "execution_count": 94,
   "id": "a50b193b",
   "metadata": {},
   "outputs": [
    {
     "name": "stdout",
     "output_type": "stream",
     "text": [
      "0 1 0 1 0 1 \n",
      "1 2 1 2 1 2 \n",
      "2 3 2 3 2 3 \n",
      "3 4 3 4 3 4 \n"
     ]
    }
   ],
   "source": [
    "for i in range(4):\n",
    "    for j in range(3): \n",
    "        print( i,i+1, end=\" \")\n",
    "    print()    "
   ]
  },
  {
   "cell_type": "code",
   "execution_count": 106,
   "id": "755d8986",
   "metadata": {},
   "outputs": [
    {
     "name": "stdout",
     "output_type": "stream",
     "text": [
      "suri\n",
      "gouramma\n",
      "narayana\n",
      "rajababu\n",
      "rajitha\n"
     ]
    }
   ],
   "source": [
    "l=[0,1,2,3,4]\n",
    "for i in l:\n",
    "    if(i==0):\n",
    "        print(\"suri\")\n",
    "    elif(i==1):\n",
    "        print(\"gouramma\")\n",
    "    elif(i==2):\n",
    "        print(\"narayana\")\n",
    "    elif(i==3):\n",
    "        print(\"rajababu\")\n",
    "    else:\n",
    "        print(\"rajitha\")"
   ]
  },
  {
   "cell_type": "code",
   "execution_count": 121,
   "id": "e1a3103b",
   "metadata": {},
   "outputs": [
    {
     "name": "stdout",
     "output_type": "stream",
     "text": [
      "VijayaProCOder\n",
      "VijayaProCOder\n",
      "VijayaProCOder\n",
      "VijayaProCOder\n",
      "VijayaProCOder\n",
      "VijayaProCOder\n"
     ]
    }
   ],
   "source": [
    "for i in range(0,4):\n",
    "    for j  in range(i):\n",
    "        print(\"VijayaProCOder\")\n",
    "    "
   ]
  },
  {
   "cell_type": "code",
   "execution_count": 16,
   "id": "bc1c21f4",
   "metadata": {},
   "outputs": [
    {
     "name": "stdout",
     "output_type": "stream",
     "text": [
      "[2, 6, 8]\n",
      "[1, 3, 45, 7, 9]\n"
     ]
    }
   ],
   "source": [
    "def f():\n",
    "    l=[1,2,3,45,6,7,8,9]\n",
    "    even=print([i for i in l if i%2==0])\n",
    "    odd=print([i for i in l if i%2!=0])\n",
    "\n",
    "f()    \n",
    "    "
   ]
  },
  {
   "cell_type": "code",
   "execution_count": 7,
   "id": "e25906b2",
   "metadata": {},
   "outputs": [
    {
     "name": "stdout",
     "output_type": "stream",
     "text": [
      "[2, 6, 8]\n"
     ]
    }
   ],
   "source": [
    "l=[1,2,3,45,6,7,8,9]\n",
    "even=[i for i in l if i%2==0]\n",
    "print(even)"
   ]
  },
  {
   "cell_type": "code",
   "execution_count": 9,
   "id": "f5badd21",
   "metadata": {},
   "outputs": [
    {
     "name": "stdout",
     "output_type": "stream",
     "text": [
      "[1, 3, 45, 7, 9]\n"
     ]
    }
   ],
   "source": [
    "l=[1,2,3,45,6,7,8,9]\n",
    "odd=[i for i in l if i%2!=0]    \n",
    "print(odd)"
   ]
  },
  {
   "cell_type": "code",
   "execution_count": 17,
   "id": "6d9e7d45",
   "metadata": {},
   "outputs": [
    {
     "name": "stdout",
     "output_type": "stream",
     "text": [
      "None\n"
     ]
    }
   ],
   "source": [
    "def f():\n",
    "    l=[1,2,3,45,6,7,8,9]\n",
    "    even=[i for i in l if i%2==0]\n",
    "    odd=[i for i in l if i%2!=0]\n",
    "    print(even.append(odd))\n",
    "\n",
    "f()    \n",
    "    "
   ]
  },
  {
   "cell_type": "code",
   "execution_count": 19,
   "id": "83f830cd",
   "metadata": {},
   "outputs": [
    {
     "name": "stdout",
     "output_type": "stream",
     "text": [
      "20\n",
      "10\n"
     ]
    }
   ],
   "source": [
    "x=10\n",
    "def f():\n",
    "    y=20\n",
    "    print(y)#20\n",
    "f()\n",
    "print(x)#10\n"
   ]
  },
  {
   "cell_type": "code",
   "execution_count": 21,
   "id": "120aad56",
   "metadata": {},
   "outputs": [
    {
     "data": {
      "text/plain": [
       "['hi', 'hi', 'hello', 'hello']"
      ]
     },
     "execution_count": 21,
     "metadata": {},
     "output_type": "execute_result"
    }
   ],
   "source": [
    "def f(list):\n",
    "    word=\" \"\n",
    "    double=list\n",
    "    for i in range(len(list)):\n",
    "        word=list[2*i]\n",
    "        double.insert(2*i+1,word)\n",
    "    return double\n",
    "f([\"hi\",\"hello\"])\n",
    "        \n"
   ]
  },
  {
   "cell_type": "code",
   "execution_count": 22,
   "id": "1e203cc9",
   "metadata": {},
   "outputs": [
    {
     "data": {
      "text/plain": [
       "3"
      ]
     },
     "execution_count": 22,
     "metadata": {},
     "output_type": "execute_result"
    }
   ],
   "source": [
    "len([1,2,3])"
   ]
  },
  {
   "cell_type": "code",
   "execution_count": 25,
   "id": "e1fa43ea",
   "metadata": {},
   "outputs": [
    {
     "name": "stdout",
     "output_type": "stream",
     "text": [
      "['hi', 'hello', 'hi', 'hello'] "
     ]
    }
   ],
   "source": [
    "l=[\"hi\",\"hello\"]\n",
    "for i in range(1):\n",
    "    l.extend(l*1)\n",
    "print(l,end=\" \")    "
   ]
  },
  {
   "cell_type": "code",
   "execution_count": 26,
   "id": "b3224bc3",
   "metadata": {},
   "outputs": [],
   "source": [
    "#by using list comprehensiom"
   ]
  },
  {
   "cell_type": "code",
   "execution_count": 27,
   "id": "9f2ae878",
   "metadata": {},
   "outputs": [
    {
     "name": "stdout",
     "output_type": "stream",
     "text": [
      "['hi', 'hello', 'hi', 'hello']\n"
     ]
    }
   ],
   "source": [
    "print([\"hi\",\"hello\"]*2)"
   ]
  },
  {
   "cell_type": "code",
   "execution_count": 28,
   "id": "6d509f3d",
   "metadata": {},
   "outputs": [
    {
     "name": "stdout",
     "output_type": "stream",
     "text": [
      "['hi', 'hello', 'hi', 'hello', 'hi', 'hello']\n"
     ]
    }
   ],
   "source": [
    "print([\"hi\",\"hello\"]*3)"
   ]
  },
  {
   "cell_type": "code",
   "execution_count": 29,
   "id": "d958ba64",
   "metadata": {},
   "outputs": [
    {
     "name": "stdout",
     "output_type": "stream",
     "text": [
      "['hi', 'hello', 'hi', 'hello', 'hi', 'hello', 'hi', 'hello', 'hi', 'hello']\n"
     ]
    }
   ],
   "source": [
    "print([\"hi\",\"hello\"]*5)"
   ]
  },
  {
   "cell_type": "code",
   "execution_count": 3,
   "id": "d0f1cfc3",
   "metadata": {},
   "outputs": [
    {
     "name": "stdout",
     "output_type": "stream",
     "text": [
      "Counter({2: 3, 1: 2, 3: 2, 4: 2, 21: 1, 5: 1})\n"
     ]
    }
   ],
   "source": [
    "l=[1,21,2,3,1,2,3,4,5,4,2]\n",
    "from collections import Counter \n",
    "print(Counter(l))"
   ]
  },
  {
   "cell_type": "code",
   "execution_count": 1,
   "id": "22fbde5b",
   "metadata": {},
   "outputs": [
    {
     "data": {
      "text/plain": [
       "['hi', 'hi', 'hello', 'hello']"
      ]
     },
     "execution_count": 1,
     "metadata": {},
     "output_type": "execute_result"
    }
   ],
   "source": [
    "def f(list):\n",
    "    word=\" \"\n",
    "    double=list\n",
    "    for i in range(len(list)):\n",
    "        word=list[2*i]\n",
    "        double.insert(2*i,word)\n",
    "    return double\n",
    "f([\"hi\",\"hello\"])\n",
    "        \n"
   ]
  },
  {
   "cell_type": "code",
   "execution_count": 2,
   "id": "ca5faa23",
   "metadata": {},
   "outputs": [
    {
     "data": {
      "text/plain": [
       "['hi', 'hello', 'hi', 'hello']"
      ]
     },
     "execution_count": 2,
     "metadata": {},
     "output_type": "execute_result"
    }
   ],
   "source": [
    "def f(list):\n",
    "    word=\" \"\n",
    "    double=list\n",
    "    for i in range(len(list)):\n",
    "        word=list[2*i]\n",
    "        double.insert(2*i-1,word)\n",
    "    return double\n",
    "f([\"hi\",\"hello\"])\n",
    "        \n"
   ]
  },
  {
   "cell_type": "code",
   "execution_count": 4,
   "id": "f55a9dc1",
   "metadata": {},
   "outputs": [],
   "source": [
    "#TO PRINT COUNT PF EACH NO IN LIST USING LIST COMPREHENSSION"
   ]
  },
  {
   "cell_type": "code",
   "execution_count": 6,
   "id": "c8c4ed9a",
   "metadata": {},
   "outputs": [
    {
     "name": "stdout",
     "output_type": "stream",
     "text": [
      "{1: 2, 21: 1, 2: 3, 3: 2, 4: 2, 5: 1}\n"
     ]
    }
   ],
   "source": [
    "print({each:l.count(each) for each in l})"
   ]
  },
  {
   "cell_type": "code",
   "execution_count": 1,
   "id": "20c24afd",
   "metadata": {},
   "outputs": [
    {
     "data": {
      "text/plain": [
       "['hi', '**', 'hello', '*****']"
      ]
     },
     "execution_count": 1,
     "metadata": {},
     "output_type": "execute_result"
    }
   ],
   "source": [
    "def f(list):\n",
    "    word=\" \"\n",
    "    double=list\n",
    "    for i in range(len(list)):\n",
    "        word=list[2*i]\n",
    "        double.insert(2*i+1,len(word)*\"*\")\n",
    "    return double\n",
    "f([\"hi\",\"hello\"])"
   ]
  }
 ],
 "metadata": {
  "kernelspec": {
   "display_name": "Python 3 (ipykernel)",
   "language": "python",
   "name": "python3"
  },
  "language_info": {
   "codemirror_mode": {
    "name": "ipython",
    "version": 3
   },
   "file_extension": ".py",
   "mimetype": "text/x-python",
   "name": "python",
   "nbconvert_exporter": "python",
   "pygments_lexer": "ipython3",
   "version": "3.9.9"
  }
 },
 "nbformat": 4,
 "nbformat_minor": 5
}
