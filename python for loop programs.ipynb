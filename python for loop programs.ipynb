{
 "cells": [
  {
   "cell_type": "code",
   "execution_count": 2,
   "id": "0290101d",
   "metadata": {},
   "outputs": [
    {
     "name": "stdout",
     "output_type": "stream",
     "text": [
      "0\n",
      "1\n",
      "2\n",
      "3\n",
      "4\n",
      "5\n",
      "6\n",
      "7\n",
      "8\n",
      "9\n"
     ]
    }
   ],
   "source": [
    "for i in range(10):\n",
    "    print(i)"
   ]
  },
  {
   "cell_type": "code",
   "execution_count": 3,
   "id": "a2bba8dc",
   "metadata": {},
   "outputs": [
    {
     "name": "stdout",
     "output_type": "stream",
     "text": [
      "hello\n",
      "hello\n",
      "hello\n",
      "hello\n",
      "hello\n",
      "hello\n"
     ]
    }
   ],
   "source": [
    "str=\"python\"\n",
    "for i in str[::-1]:\n",
    "    print(\"hello\")"
   ]
  },
  {
   "cell_type": "code",
   "execution_count": 8,
   "id": "ff29dc7c",
   "metadata": {},
   "outputs": [
    {
     "name": "stdout",
     "output_type": "stream",
     "text": [
      "hello\n",
      "hello\n",
      "hello\n",
      "hello\n",
      "hello\n",
      "hello\n"
     ]
    }
   ],
   "source": [
    "str=\"python\"\n",
    "for i in  \"nohtyp\":\n",
    "    print(\"hello\")"
   ]
  },
  {
   "cell_type": "code",
   "execution_count": 9,
   "id": "727e8a72",
   "metadata": {},
   "outputs": [
    {
     "name": "stdout",
     "output_type": "stream",
     "text": [
      "20\n",
      "20\n",
      "20\n",
      "20\n",
      "20\n",
      "20\n"
     ]
    }
   ],
   "source": [
    "x=10\n",
    "for i in range(5):\n",
    "    x=20\n",
    "    print(x)\n",
    "print(x)    \n",
    "    "
   ]
  },
  {
   "cell_type": "code",
   "execution_count": 10,
   "id": "7f489bfb",
   "metadata": {},
   "outputs": [
    {
     "name": "stdout",
     "output_type": "stream",
     "text": [
      "0 10\n",
      "1 10\n",
      "2 10\n",
      "3 10\n",
      "4 10\n",
      "5 10\n",
      "6 10\n",
      "7 10\n",
      "8 10\n",
      "9 10\n"
     ]
    }
   ],
   "source": [
    "x=10\n",
    "for i in range(10):\n",
    "    print(i,x)"
   ]
  },
  {
   "cell_type": "code",
   "execution_count": 12,
   "id": "eda632e1",
   "metadata": {},
   "outputs": [
    {
     "name": "stdout",
     "output_type": "stream",
     "text": [
      "0 , 10\n",
      "1 , 10\n",
      "2 , 10\n",
      "3 , 10\n",
      "4 , 10\n",
      "5 , 10\n",
      "6 , 10\n",
      "7 , 10\n",
      "8 , 10\n",
      "9 , 10\n"
     ]
    }
   ],
   "source": [
    "x=10\n",
    "for i in range(10):\n",
    "    print(i,\",\",x)"
   ]
  },
  {
   "cell_type": "code",
   "execution_count": 14,
   "id": "64b59d88",
   "metadata": {},
   "outputs": [
    {
     "name": "stdout",
     "output_type": "stream",
     "text": [
      "0 ) 10\n",
      "1 ) 10\n",
      "2 ) 10\n",
      "3 ) 10\n",
      "4 ) 10\n",
      "5 ) 10\n",
      "6 ) 10\n",
      "7 ) 10\n",
      "8 ) 10\n",
      "9 ) 10\n"
     ]
    }
   ],
   "source": [
    "x=10\n",
    "for i in range(10):\n",
    "    print(i,\")\",x)"
   ]
  },
  {
   "cell_type": "code",
   "execution_count": 15,
   "id": "f82121ba",
   "metadata": {},
   "outputs": [
    {
     "name": "stdout",
     "output_type": "stream",
     "text": [
      "1\n",
      "3\n",
      "5\n",
      "7\n",
      "9\n"
     ]
    }
   ],
   "source": [
    "for i in range(1,10,2):\n",
    "    print(i)"
   ]
  },
  {
   "cell_type": "code",
   "execution_count": 17,
   "id": "97530dd3",
   "metadata": {},
   "outputs": [
    {
     "name": "stdout",
     "output_type": "stream",
     "text": [
      "1\n",
      "4\n",
      "7\n"
     ]
    }
   ],
   "source": [
    "for i in range(1,10,3):\n",
    "    print(i)\n"
   ]
  },
  {
   "cell_type": "code",
   "execution_count": 19,
   "id": "8c10451a",
   "metadata": {},
   "outputs": [
    {
     "name": "stdout",
     "output_type": "stream",
     "text": [
      "2\n",
      "4\n",
      "6\n",
      "8\n",
      "10\n"
     ]
    }
   ],
   "source": [
    "for i in range(1,11):\n",
    "    if(i%2==0):\n",
    "        print(i)"
   ]
  },
  {
   "cell_type": "code",
   "execution_count": 21,
   "id": "e75ba5bc",
   "metadata": {},
   "outputs": [
    {
     "name": "stdout",
     "output_type": "stream",
     "text": [
      "1\n",
      "3\n",
      "5\n",
      "7\n",
      "9\n"
     ]
    }
   ],
   "source": [
    "for i in range(1,11):\n",
    "    if(i%2!=0):\n",
    "        print(i)"
   ]
  },
  {
   "cell_type": "code",
   "execution_count": 22,
   "id": "519c31a3",
   "metadata": {},
   "outputs": [
    {
     "name": "stdout",
     "output_type": "stream",
     "text": [
      "[2, 4, 6, 8, 10]\n",
      "[1, 3, 5, 7, 9]\n"
     ]
    }
   ],
   "source": [
    "even=[]\n",
    "odd=[]\n",
    "for i in range(1,11):\n",
    "    if(i%2==0):\n",
    "        even.append(i)\n",
    "    else:\n",
    "        odd.append(i)\n",
    "print(even)\n",
    "print(odd)"
   ]
  },
  {
   "cell_type": "code",
   "execution_count": 23,
   "id": "afc85f80",
   "metadata": {},
   "outputs": [
    {
     "name": "stdout",
     "output_type": "stream",
     "text": [
      "[2, 4, 6, 8, 10]\n",
      "[1, 3, 5, 7, 9]\n"
     ]
    }
   ],
   "source": [
    "def number():\n",
    "    \n",
    "    even=[]\n",
    "    odd=[]\n",
    "    for i in range(1,11):\n",
    "        if(i%2==0):\n",
    "            even.append(i)\n",
    "        else:\n",
    "            odd.append(i)\n",
    "    print(even)\n",
    "    print(odd)\n",
    "number()    \n"
   ]
  },
  {
   "cell_type": "code",
   "execution_count": 24,
   "id": "b4e396e2",
   "metadata": {},
   "outputs": [],
   "source": [
    "#list comprehension\n"
   ]
  },
  {
   "cell_type": "code",
   "execution_count": 25,
   "id": "1525f78e",
   "metadata": {},
   "outputs": [
    {
     "name": "stdout",
     "output_type": "stream",
     "text": [
      "[0, 2, 4, 6, 8]\n"
     ]
    }
   ],
   "source": [
    "print([i for i in range(10) if(i%2==0)])"
   ]
  },
  {
   "cell_type": "code",
   "execution_count": 26,
   "id": "98b8ad08",
   "metadata": {},
   "outputs": [
    {
     "name": "stdout",
     "output_type": "stream",
     "text": [
      "[0, 5]\n"
     ]
    }
   ],
   "source": [
    "print([i for i in range(10) if(i%5==0)])"
   ]
  },
  {
   "cell_type": "code",
   "execution_count": 27,
   "id": "58026c10",
   "metadata": {},
   "outputs": [
    {
     "name": "stdout",
     "output_type": "stream",
     "text": [
      "5\n"
     ]
    }
   ],
   "source": [
    "print(len([i for i in range(10) if(i%2==0)]))"
   ]
  },
  {
   "cell_type": "code",
   "execution_count": 29,
   "id": "31c15d73",
   "metadata": {},
   "outputs": [
    {
     "name": "stdout",
     "output_type": "stream",
     "text": [
      "[0, 1, 4, 9, 16, 25, 36, 49, 64, 81]\n"
     ]
    }
   ],
   "source": [
    "print([i**2 for i in range(10) ])"
   ]
  },
  {
   "cell_type": "code",
   "execution_count": 30,
   "id": "89233c6d",
   "metadata": {},
   "outputs": [
    {
     "name": "stdout",
     "output_type": "stream",
     "text": [
      "[0, 2, 4, 6, 8]\n"
     ]
    }
   ],
   "source": [
    "print([i for i in range(10) if(i%2==0)])"
   ]
  },
  {
   "cell_type": "code",
   "execution_count": 33,
   "id": "3aece8aa",
   "metadata": {},
   "outputs": [
    {
     "name": "stdout",
     "output_type": "stream",
     "text": [
      "[1, 9, 25, 49, 81]\n"
     ]
    }
   ],
   "source": [
    "print([i**2 for i in range(10) if(i%2!=0)])"
   ]
  },
  {
   "cell_type": "code",
   "execution_count": 34,
   "id": "ca7319d9",
   "metadata": {},
   "outputs": [
    {
     "name": "stdout",
     "output_type": "stream",
     "text": [
      "[1, 1, 2, 2, 3, 3, 4, 5, 6, 7, 8, 8, 9]\n"
     ]
    }
   ],
   "source": [
    "print([i for i in [1,1,2,2,3,3,4,5,6,7,8,8,9]])"
   ]
  },
  {
   "cell_type": "code",
   "execution_count": 35,
   "id": "69a8e91b",
   "metadata": {},
   "outputs": [
    {
     "name": "stdout",
     "output_type": "stream",
     "text": [
      "13\n"
     ]
    }
   ],
   "source": [
    "print(len([i for i in [1,1,2,2,3,3,4,5,6,7,8,8,9]]))"
   ]
  },
  {
   "cell_type": "code",
   "execution_count": 38,
   "id": "847197a3",
   "metadata": {},
   "outputs": [
    {
     "name": "stdout",
     "output_type": "stream",
     "text": [
      "{1, 2, 3, 4, 5, 6, 7, 8, 9}\n"
     ]
    }
   ],
   "source": [
    "print({i for i in [1,1,2,2,3,3,4,5,6,7,8,8,9]})"
   ]
  },
  {
   "cell_type": "code",
   "execution_count": 39,
   "id": "9fc15c21",
   "metadata": {},
   "outputs": [
    {
     "name": "stdout",
     "output_type": "stream",
     "text": [
      "{64, 1, 4, 36, 9, 16, 49, 81, 25}\n"
     ]
    }
   ],
   "source": [
    "print({i**2 for i in [1,1,2,2,3,3,4,5,6,7,8,8,9]})"
   ]
  },
  {
   "cell_type": "code",
   "execution_count": 41,
   "id": "a4ec9c89",
   "metadata": {},
   "outputs": [
    {
     "name": "stdout",
     "output_type": "stream",
     "text": [
      "9\n"
     ]
    }
   ],
   "source": [
    "print(len({i**2 for i in [1,1,2,2,3,3,4,5,6,7,8,8,9]}))"
   ]
  },
  {
   "cell_type": "code",
   "execution_count": 42,
   "id": "75661d04",
   "metadata": {},
   "outputs": [
    {
     "name": "stdout",
     "output_type": "stream",
     "text": [
      "9\n"
     ]
    }
   ],
   "source": [
    "print(len({i for i in [1,1,2,2,3,3,4,5,6,7,8,8,9]}))"
   ]
  },
  {
   "cell_type": "code",
   "execution_count": 43,
   "id": "523b1bd7",
   "metadata": {},
   "outputs": [
    {
     "name": "stdout",
     "output_type": "stream",
     "text": [
      "{1, 2, 3, 45}\n"
     ]
    }
   ],
   "source": [
    "print({1,1,1,2,2,2,3,45,1,2})"
   ]
  },
  {
   "cell_type": "code",
   "execution_count": 44,
   "id": "a3d7b5df",
   "metadata": {},
   "outputs": [
    {
     "name": "stdout",
     "output_type": "stream",
     "text": [
      "[5, 10, 15, 20, 25, 30, 35, 40, 45]\n"
     ]
    }
   ],
   "source": [
    "print([i for i in range(1,50) if(i%5==0)])"
   ]
  },
  {
   "cell_type": "code",
   "execution_count": 46,
   "id": "a245f5f9",
   "metadata": {},
   "outputs": [
    {
     "name": "stdout",
     "output_type": "stream",
     "text": [
      "[11, 12, 13, 3, 4, 5, 31, 32, 33]\n"
     ]
    }
   ],
   "source": [
    "l1=[10,2,30]\n",
    "l2=[1,2,3]\n",
    "l3=[]\n",
    "#[11,12,13,21,22,23,31,32,33]\n",
    "for i in l1:\n",
    "    for j in l2:\n",
    "        l3.append(i+j)\n",
    "print(l3)        "
   ]
  },
  {
   "cell_type": "code",
   "execution_count": 47,
   "id": "6666bb13",
   "metadata": {},
   "outputs": [
    {
     "name": "stdout",
     "output_type": "stream",
     "text": [
      "[11, 12, 13, 3, 4, 5, 31, 32, 33]\n"
     ]
    }
   ],
   "source": [
    "print([i+j for i in l1 for j in l2])"
   ]
  },
  {
   "cell_type": "code",
   "execution_count": 48,
   "id": "abf52525",
   "metadata": {},
   "outputs": [
    {
     "name": "stdout",
     "output_type": "stream",
     "text": [
      "['Aa', 'Ab', 'Ac', 'Ba', 'Bb', 'Bc', 'Ca', 'Cb', 'Cc']\n"
     ]
    }
   ],
   "source": [
    "print([i+j for i in \"ABC\" for j in \"abc\"])"
   ]
  },
  {
   "cell_type": "code",
   "execution_count": 49,
   "id": "b3da2804",
   "metadata": {},
   "outputs": [
    {
     "name": "stdout",
     "output_type": "stream",
     "text": [
      "[0, 1, 2, 3, 4, 5, 6, 7, 8, 9]\n"
     ]
    }
   ],
   "source": [
    "print([i for i in range(10)])"
   ]
  },
  {
   "cell_type": "code",
   "execution_count": 50,
   "id": "0c86154e",
   "metadata": {},
   "outputs": [
    {
     "name": "stdout",
     "output_type": "stream",
     "text": [
      "['p', 'y', 't', 'h', 'o', 'n']\n"
     ]
    }
   ],
   "source": [
    "print([i for i in \"python\"])"
   ]
  },
  {
   "cell_type": "code",
   "execution_count": 51,
   "id": "3b62d738",
   "metadata": {},
   "outputs": [
    {
     "name": "stdout",
     "output_type": "stream",
     "text": [
      "['v', 'i', 'j', 'a', 'y', 'a', 'l', 'a', 'x', 'm', 'i']\n"
     ]
    }
   ],
   "source": [
    "print([i  for i in  \"vijayalaxmi\"])"
   ]
  },
  {
   "cell_type": "code",
   "execution_count": 52,
   "id": "20b83512",
   "metadata": {},
   "outputs": [
    {
     "name": "stdout",
     "output_type": "stream",
     "text": [
      "['s', 'u', 'r', 'y', 'a', 't', 'e', 'j', 'a']\n"
     ]
    }
   ],
   "source": [
    "print([ i for i in \"suryateja\"])"
   ]
  },
  {
   "cell_type": "code",
   "execution_count": 53,
   "id": "87c80f9f",
   "metadata": {},
   "outputs": [
    {
     "name": "stdout",
     "output_type": "stream",
     "text": [
      "['s', 'u', 'r', 'i', 'v', 'i', 'j', 'j', 'u']\n"
     ]
    }
   ],
   "source": [
    "print([ i for i in \"surivijju\"])"
   ]
  },
  {
   "cell_type": "code",
   "execution_count": 55,
   "id": "3fcf0e75",
   "metadata": {},
   "outputs": [
    {
     "name": "stdout",
     "output_type": "stream",
     "text": [
      "['A', 'B', 'C']\n"
     ]
    }
   ],
   "source": [
    "print([i[0] for i in [\"Aaa\",\"Bbb\",\"Ccc\"]])"
   ]
  },
  {
   "cell_type": "code",
   "execution_count": 57,
   "id": "4a2784e1",
   "metadata": {},
   "outputs": [
    {
     "name": "stdout",
     "output_type": "stream",
     "text": [
      "['a', 'a', 'z']\n"
     ]
    }
   ],
   "source": [
    "print([i[2] for i  in [\"Aaaax\",\"Bbay\",\"Ccz\"]])"
   ]
  },
  {
   "cell_type": "code",
   "execution_count": 58,
   "id": "486b3a3f",
   "metadata": {},
   "outputs": [
    {
     "name": "stdout",
     "output_type": "stream",
     "text": [
      "['x', 'y', 'z']\n"
     ]
    }
   ],
   "source": [
    "print([i[-1] for i  in [\"Aaaax\",\"Bbay\",\"Ccz\"]])"
   ]
  },
  {
   "cell_type": "code",
   "execution_count": 60,
   "id": "ba469589",
   "metadata": {},
   "outputs": [
    {
     "name": "stdout",
     "output_type": "stream",
     "text": [
      "['D', 'S', 'W']\n"
     ]
    }
   ],
   "source": [
    "print([i[0] for i in [\"Data\",\"Science\",\"With\"]])"
   ]
  },
  {
   "cell_type": "code",
   "execution_count": null,
   "id": "33da6e0e",
   "metadata": {},
   "outputs": [],
   "source": [
    "#nested for loop"
   ]
  },
  {
   "cell_type": "code",
   "execution_count": 67,
   "id": "c59d5194",
   "metadata": {},
   "outputs": [
    {
     "name": "stdout",
     "output_type": "stream",
     "text": [
      " \n",
      "*   \n",
      "*  *   \n",
      "*  *  *   \n",
      "*  *  *  *   \n"
     ]
    }
   ],
   "source": [
    "for i in range(5):\n",
    "    for j in range(i):\n",
    "        print(\"* \",end=\" \")\n",
    "    print(\" \")    "
   ]
  },
  {
   "cell_type": "code",
   "execution_count": 70,
   "id": "8cba66aa",
   "metadata": {},
   "outputs": [
    {
     "name": "stdout",
     "output_type": "stream",
     "text": [
      "\n",
      "*  \n",
      "*  *  \n",
      "*  *  *  \n",
      "*  *  *  *  \n"
     ]
    }
   ],
   "source": [
    "for i in range(5):\n",
    "    for j in range(i):\n",
    "        print(\"* \",end=\" \")\n",
    "    print()   "
   ]
  },
  {
   "cell_type": "code",
   "execution_count": 71,
   "id": "06384de6",
   "metadata": {},
   "outputs": [
    {
     "name": "stdout",
     "output_type": "stream",
     "text": [
      "*  *  *  *  \n",
      "*  *  *  *  \n",
      "*  *  *  *  \n",
      "*  *  *  *  \n",
      "*  *  *  *  \n"
     ]
    }
   ],
   "source": [
    "for i in range(5):\n",
    "    for j in range(4):\n",
    "        print(\"* \",end=\" \")\n",
    "    print()   "
   ]
  },
  {
   "cell_type": "code",
   "execution_count": 72,
   "id": "f7f8860f",
   "metadata": {},
   "outputs": [
    {
     "name": "stdout",
     "output_type": "stream",
     "text": [
      "*  *  *  \n",
      "*  *  *  \n",
      "*  *  *  \n",
      "*  *  *  \n"
     ]
    }
   ],
   "source": [
    "for i in range(4):\n",
    "    for j in range(3):\n",
    "        print(\"* \",end=\" \")\n",
    "    print()   "
   ]
  },
  {
   "cell_type": "code",
   "execution_count": 73,
   "id": "ce5433eb",
   "metadata": {},
   "outputs": [
    {
     "name": "stdout",
     "output_type": "stream",
     "text": [
      "0\n",
      "0\n",
      "\n",
      "1\n",
      "1\n",
      "\n"
     ]
    }
   ],
   "source": [
    "for  i in range(2):#range(2)=(0,1)\n",
    "    for j in range(2):#range(3)=(0,1)\n",
    "        print(i)\n",
    "    print()    "
   ]
  },
  {
   "cell_type": "code",
   "execution_count": 77,
   "id": "0f18bea8",
   "metadata": {},
   "outputs": [
    {
     "name": "stdout",
     "output_type": "stream",
     "text": [
      "0\n",
      "1\n",
      "2\n",
      "3\n",
      "4\n",
      "\n",
      "0\n",
      "1\n",
      "2\n",
      "3\n",
      "4\n",
      "\n",
      "0\n",
      "1\n",
      "2\n",
      "3\n",
      "4\n",
      "\n",
      "0\n",
      "1\n",
      "2\n",
      "3\n",
      "4\n",
      "\n",
      "0\n",
      "1\n",
      "2\n",
      "3\n",
      "4\n",
      "\n"
     ]
    }
   ],
   "source": [
    "for  i in range(5):\n",
    "    for j in range(5):\n",
    "        print(j)\n",
    "    print()    "
   ]
  },
  {
   "cell_type": "code",
   "execution_count": 80,
   "id": "501eff0c",
   "metadata": {},
   "outputs": [
    {
     "name": "stdout",
     "output_type": "stream",
     "text": [
      "*  *  *  *  $\n",
      "*  *  *  *  $\n",
      "*  *  *  *  $\n",
      "*  *  *  *  $\n",
      "*  *  *  *  $\n"
     ]
    }
   ],
   "source": [
    "for i in range(5):\n",
    "    for j in range(4):\n",
    "        print(\"* \",end=\" \")\n",
    "    print(\"$\")   "
   ]
  },
  {
   "cell_type": "code",
   "execution_count": 81,
   "id": "753a29c7",
   "metadata": {},
   "outputs": [
    {
     "name": "stdout",
     "output_type": "stream",
     "text": [
      "$\n",
      "*  $\n",
      "*  *  $\n",
      "*  *  *  $\n",
      "*  *  *  *  $\n"
     ]
    }
   ],
   "source": [
    "for i in range(5):\n",
    "    for j in range(i):\n",
    "        print(\"* \",end=\" \")\n",
    "    print(\"$\")   "
   ]
  },
  {
   "cell_type": "code",
   "execution_count": 88,
   "id": "4b2c84ab",
   "metadata": {},
   "outputs": [
    {
     "name": "stdout",
     "output_type": "stream",
     "text": [
      "1 2\n",
      "2 3\n",
      "2 3\n",
      "3 4\n",
      "3 4\n",
      "3 4\n",
      "4 5\n",
      "4 5\n",
      "4 5\n",
      "4 5\n"
     ]
    }
   ],
   "source": [
    "for i in range(5):\n",
    "    for j in range(i):\n",
    "        print(i,i+1)\n",
    "    "
   ]
  },
  {
   "cell_type": "code",
   "execution_count": 90,
   "id": "30eb462f",
   "metadata": {},
   "outputs": [
    {
     "name": "stdout",
     "output_type": "stream",
     "text": [
      "0 0 0 0 \n",
      "1 1 1 1 \n",
      "2 2 2 2 \n",
      "3 3 3 3 \n",
      "4 4 4 4 \n"
     ]
    }
   ],
   "source": [
    "for i  in range(5):\n",
    "    for j in range(4):\n",
    "        print(i, end=\" \")\n",
    "    print()"
   ]
  },
  {
   "cell_type": "code",
   "execution_count": 94,
   "id": "c8b2531d",
   "metadata": {},
   "outputs": [
    {
     "name": "stdout",
     "output_type": "stream",
     "text": [
      "0 1 0 1 0 1 \n",
      "1 2 1 2 1 2 \n",
      "2 3 2 3 2 3 \n",
      "3 4 3 4 3 4 \n"
     ]
    }
   ],
   "source": [
    "for i in range(4):\n",
    "    for j in range(3): \n",
    "        print( i,i+1, end=\" \")\n",
    "    print()    "
   ]
  },
  {
   "cell_type": "code",
   "execution_count": null,
   "id": "975ba86e",
   "metadata": {},
   "outputs": [],
   "source": []
  }
 ],
 "metadata": {
  "kernelspec": {
   "display_name": "Python 3 (ipykernel)",
   "language": "python",
   "name": "python3"
  },
  "language_info": {
   "codemirror_mode": {
    "name": "ipython",
    "version": 3
   },
   "file_extension": ".py",
   "mimetype": "text/x-python",
   "name": "python",
   "nbconvert_exporter": "python",
   "pygments_lexer": "ipython3",
   "version": "3.9.9"
  }
 },
 "nbformat": 4,
 "nbformat_minor": 5
}
